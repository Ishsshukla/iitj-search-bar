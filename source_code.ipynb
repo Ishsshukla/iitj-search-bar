{
 "cells": [
  {
   "cell_type": "code",
   "execution_count": 17,
   "metadata": {},
   "outputs": [],
   "source": [
    "import pandas as pd\n",
    "from sklearn.feature_extraction.text import TfidfVectorizer\n",
    "from sklearn.metrics.pairwise import cosine_similarity\n",
    "from sklearn.metrics.pairwise import linear_kernel\n",
    "import requests"
   ]
  },
  {
   "cell_type": "code",
   "execution_count": 18,
   "metadata": {},
   "outputs": [],
   "source": [
    "response = requests.get('https://trendify-ui65.onrender.com/products')\n",
    "data = response.json() \n",
    "df = pd.DataFrame(data)  #converting the JSON data into a pandas DataFrame."
   ]
  },
  {
   "cell_type": "code",
   "execution_count": 19,
   "metadata": {},
   "outputs": [
    {
     "data": {
      "text/html": [
       "<div>\n",
       "<style scoped>\n",
       "    .dataframe tbody tr th:only-of-type {\n",
       "        vertical-align: middle;\n",
       "    }\n",
       "\n",
       "    .dataframe tbody tr th {\n",
       "        vertical-align: top;\n",
       "    }\n",
       "\n",
       "    .dataframe thead th {\n",
       "        text-align: right;\n",
       "    }\n",
       "</style>\n",
       "<table border=\"1\" class=\"dataframe\">\n",
       "  <thead>\n",
       "    <tr style=\"text-align: right;\">\n",
       "      <th></th>\n",
       "      <th>wishingUsers</th>\n",
       "      <th>_id</th>\n",
       "      <th>price</th>\n",
       "      <th>details</th>\n",
       "      <th>category</th>\n",
       "      <th>productName</th>\n",
       "      <th>productImage</th>\n",
       "    </tr>\n",
       "  </thead>\n",
       "  <tbody>\n",
       "    <tr>\n",
       "      <th>0</th>\n",
       "      <td>[]</td>\n",
       "      <td>65aa9fea11b750a2db1ad9ab</td>\n",
       "      <td>3,990.00</td>\n",
       "      <td>Sneakers with a combination of materials, piec...</td>\n",
       "      <td>shoes</td>\n",
       "      <td>DENIM SNEAKERS</td>\n",
       "      <td>https://static.zara.net/photos///2023/I/1/2/p/...</td>\n",
       "    </tr>\n",
       "    <tr>\n",
       "      <th>1</th>\n",
       "      <td>[65ab480079a0e18b8dc8b0bc]</td>\n",
       "      <td>65aa9fea11b750a2db1ad9ac</td>\n",
       "      <td>2500.00</td>\n",
       "      <td>Monochrome trainers. Seven-eyelet facing. The ...</td>\n",
       "      <td>shoes</td>\n",
       "      <td>CHUNKY TRAINERS</td>\n",
       "      <td>https://static.zara.net/photos///2023/V/1/2/p/...</td>\n",
       "    </tr>\n",
       "    <tr>\n",
       "      <th>2</th>\n",
       "      <td>[]</td>\n",
       "      <td>65aa9fea11b750a2db1ad9ad</td>\n",
       "      <td>3,990.00</td>\n",
       "      <td>Sneakers. Plain upper. Seven-eyelet facing. Ch...</td>\n",
       "      <td>shoes</td>\n",
       "      <td>CHUNKY TRAINERS</td>\n",
       "      <td>https://static.zara.net/photos///2023/I/1/2/p/...</td>\n",
       "    </tr>\n",
       "    <tr>\n",
       "      <th>3</th>\n",
       "      <td>[]</td>\n",
       "      <td>65aa9fea11b750a2db1ad9ae</td>\n",
       "      <td>2,990.00</td>\n",
       "      <td>Trainers. Combination of materials, pieces and...</td>\n",
       "      <td>shoes</td>\n",
       "      <td>MULTIPIECE TRAINERS</td>\n",
       "      <td>https://static.zara.net/photos///2023/I/1/2/p/...</td>\n",
       "    </tr>\n",
       "    <tr>\n",
       "      <th>4</th>\n",
       "      <td>[]</td>\n",
       "      <td>65aa9fea11b750a2db1ad9af</td>\n",
       "      <td>7,990.00</td>\n",
       "      <td>Leather monk shoes. Two metal buckles. Leather...</td>\n",
       "      <td>shoes</td>\n",
       "      <td>LEATHER MONK SHOES</td>\n",
       "      <td>https://static.zara.net/photos///2023/I/1/2/p/...</td>\n",
       "    </tr>\n",
       "  </tbody>\n",
       "</table>\n",
       "</div>"
      ],
      "text/plain": [
       "                 wishingUsers                       _id     price  \\\n",
       "0                          []  65aa9fea11b750a2db1ad9ab  3,990.00   \n",
       "1  [65ab480079a0e18b8dc8b0bc]  65aa9fea11b750a2db1ad9ac   2500.00   \n",
       "2                          []  65aa9fea11b750a2db1ad9ad  3,990.00   \n",
       "3                          []  65aa9fea11b750a2db1ad9ae  2,990.00   \n",
       "4                          []  65aa9fea11b750a2db1ad9af  7,990.00   \n",
       "\n",
       "                                             details category  \\\n",
       "0  Sneakers with a combination of materials, piec...    shoes   \n",
       "1  Monochrome trainers. Seven-eyelet facing. The ...    shoes   \n",
       "2  Sneakers. Plain upper. Seven-eyelet facing. Ch...    shoes   \n",
       "3  Trainers. Combination of materials, pieces and...    shoes   \n",
       "4  Leather monk shoes. Two metal buckles. Leather...    shoes   \n",
       "\n",
       "           productName                                       productImage  \n",
       "0       DENIM SNEAKERS  https://static.zara.net/photos///2023/I/1/2/p/...  \n",
       "1      CHUNKY TRAINERS  https://static.zara.net/photos///2023/V/1/2/p/...  \n",
       "2      CHUNKY TRAINERS  https://static.zara.net/photos///2023/I/1/2/p/...  \n",
       "3  MULTIPIECE TRAINERS  https://static.zara.net/photos///2023/I/1/2/p/...  \n",
       "4   LEATHER MONK SHOES  https://static.zara.net/photos///2023/I/1/2/p/...  "
      ]
     },
     "execution_count": 19,
     "metadata": {},
     "output_type": "execute_result"
    }
   ],
   "source": [
    "df.head()"
   ]
  },
  {
   "cell_type": "code",
   "execution_count": 20,
   "metadata": {},
   "outputs": [
    {
     "data": {
      "text/plain": [
       "wishingUsers    0\n",
       "_id             0\n",
       "price           0\n",
       "details         0\n",
       "category        0\n",
       "productName     0\n",
       "productImage    0\n",
       "dtype: int64"
      ]
     },
     "execution_count": 20,
     "metadata": {},
     "output_type": "execute_result"
    }
   ],
   "source": [
    "df.isna().sum()"
   ]
  },
  {
   "cell_type": "code",
   "execution_count": 21,
   "metadata": {},
   "outputs": [
    {
     "name": "stdout",
     "output_type": "stream",
     "text": [
      "Index(['wishingUsers', '_id', 'price', 'details', 'category', 'productName',\n",
      "       'productImage'],\n",
      "      dtype='object')\n"
     ]
    }
   ],
   "source": [
    "print(df.columns)\n"
   ]
  },
  {
   "cell_type": "code",
   "execution_count": 23,
   "metadata": {},
   "outputs": [
    {
     "data": {
      "text/html": [
       "<div>\n",
       "<style scoped>\n",
       "    .dataframe tbody tr th:only-of-type {\n",
       "        vertical-align: middle;\n",
       "    }\n",
       "\n",
       "    .dataframe tbody tr th {\n",
       "        vertical-align: top;\n",
       "    }\n",
       "\n",
       "    .dataframe thead th {\n",
       "        text-align: right;\n",
       "    }\n",
       "</style>\n",
       "<table border=\"1\" class=\"dataframe\">\n",
       "  <thead>\n",
       "    <tr style=\"text-align: right;\">\n",
       "      <th></th>\n",
       "      <th>wishingUsers</th>\n",
       "      <th>_id</th>\n",
       "      <th>price</th>\n",
       "      <th>details</th>\n",
       "      <th>category</th>\n",
       "      <th>productName</th>\n",
       "      <th>productImage</th>\n",
       "    </tr>\n",
       "  </thead>\n",
       "  <tbody>\n",
       "    <tr>\n",
       "      <th>2</th>\n",
       "      <td>[]</td>\n",
       "      <td>65aa9fea11b750a2db1ad9ad</td>\n",
       "      <td>3,990.00</td>\n",
       "      <td>Sneakers. Plain upper. Seven-eyelet facing. Ch...</td>\n",
       "      <td>shoes</td>\n",
       "      <td>CHUNKY TRAINERS</td>\n",
       "      <td>https://static.zara.net/photos///2023/I/1/2/p/...</td>\n",
       "    </tr>\n",
       "    <tr>\n",
       "      <th>9</th>\n",
       "      <td>[]</td>\n",
       "      <td>65aa9fea11b750a2db1ad9b4</td>\n",
       "      <td>4,990.00</td>\n",
       "      <td>Monochrome ankle boots. Matching side gores an...</td>\n",
       "      <td>shoes</td>\n",
       "      <td>CHELSEA BOOTS</td>\n",
       "      <td>https://static.zara.net/photos///2023/I/1/2/p/...</td>\n",
       "    </tr>\n",
       "    <tr>\n",
       "      <th>29</th>\n",
       "      <td>[]</td>\n",
       "      <td>65aabfdd11b750a2db1ad9c8</td>\n",
       "      <td>899.00</td>\n",
       "      <td>Loose-fitting T-shirt with a round neck and sh...</td>\n",
       "      <td>tShirt</td>\n",
       "      <td>SLOGAN PRINT T-SHIRT</td>\n",
       "      <td>https://static.zara.net/photos///2023/I/0/2/p/...</td>\n",
       "    </tr>\n",
       "    <tr>\n",
       "      <th>35</th>\n",
       "      <td>[]</td>\n",
       "      <td>65aac38c11b750a2db1ad9cf</td>\n",
       "      <td>7,590.00</td>\n",
       "      <td>Collared jacket with long sleeves and elastica...</td>\n",
       "      <td>jacket</td>\n",
       "      <td>FAUX LEATHER JACKET</td>\n",
       "      <td>https://static.zara.net/photos///2023/I/0/2/p/...</td>\n",
       "    </tr>\n",
       "    <tr>\n",
       "      <th>39</th>\n",
       "      <td>[]</td>\n",
       "      <td>65aac38c11b750a2db1ad9d3</td>\n",
       "      <td>4,990.00</td>\n",
       "      <td>Varsity jacket made of lightweight fabric. Jet...</td>\n",
       "      <td>jacket</td>\n",
       "      <td>BOMBER JACKET WITH PATCH</td>\n",
       "      <td>https://static.zara.net/photos///2023/I/0/2/p/...</td>\n",
       "    </tr>\n",
       "    <tr>\n",
       "      <th>53</th>\n",
       "      <td>[]</td>\n",
       "      <td>65aac50211b750a2db1ad9e1</td>\n",
       "      <td>2,490.00</td>\n",
       "      <td>Cropped slim fit jeans with a five-pocket desi...</td>\n",
       "      <td>pant</td>\n",
       "      <td>CROPPED SLIM JEANS</td>\n",
       "      <td>https://static.zara.net/photos///2023/I/0/1/p/...</td>\n",
       "    </tr>\n",
       "  </tbody>\n",
       "</table>\n",
       "</div>"
      ],
      "text/plain": [
       "   wishingUsers                       _id     price  \\\n",
       "2            []  65aa9fea11b750a2db1ad9ad  3,990.00   \n",
       "9            []  65aa9fea11b750a2db1ad9b4  4,990.00   \n",
       "29           []  65aabfdd11b750a2db1ad9c8    899.00   \n",
       "35           []  65aac38c11b750a2db1ad9cf  7,590.00   \n",
       "39           []  65aac38c11b750a2db1ad9d3  4,990.00   \n",
       "53           []  65aac50211b750a2db1ad9e1  2,490.00   \n",
       "\n",
       "                                              details category  \\\n",
       "2   Sneakers. Plain upper. Seven-eyelet facing. Ch...    shoes   \n",
       "9   Monochrome ankle boots. Matching side gores an...    shoes   \n",
       "29  Loose-fitting T-shirt with a round neck and sh...   tShirt   \n",
       "35  Collared jacket with long sleeves and elastica...   jacket   \n",
       "39  Varsity jacket made of lightweight fabric. Jet...   jacket   \n",
       "53  Cropped slim fit jeans with a five-pocket desi...     pant   \n",
       "\n",
       "                 productName  \\\n",
       "2            CHUNKY TRAINERS   \n",
       "9              CHELSEA BOOTS   \n",
       "29      SLOGAN PRINT T-SHIRT   \n",
       "35       FAUX LEATHER JACKET   \n",
       "39  BOMBER JACKET WITH PATCH   \n",
       "53        CROPPED SLIM JEANS   \n",
       "\n",
       "                                         productImage  \n",
       "2   https://static.zara.net/photos///2023/I/1/2/p/...  \n",
       "9   https://static.zara.net/photos///2023/I/1/2/p/...  \n",
       "29  https://static.zara.net/photos///2023/I/0/2/p/...  \n",
       "35  https://static.zara.net/photos///2023/I/0/2/p/...  \n",
       "39  https://static.zara.net/photos///2023/I/0/2/p/...  \n",
       "53  https://static.zara.net/photos///2023/I/0/1/p/...  "
      ]
     },
     "execution_count": 23,
     "metadata": {},
     "output_type": "execute_result"
    }
   ],
   "source": [
    "df.loc[df.duplicated(subset='productName')] #duplicate rows in df based on the 'jobProfile' column"
   ]
  },
  {
   "cell_type": "code",
   "execution_count": 24,
   "metadata": {},
   "outputs": [],
   "source": [
    "\n",
    "df_copy1 =df.drop(columns=[ 'wishingUsers','_id']).copy()"
   ]
  },
  {
   "cell_type": "code",
   "execution_count": null,
   "metadata": {},
   "outputs": [],
   "source": [
    "df_copy1"
   ]
  },
  {
   "cell_type": "code",
   "execution_count": 26,
   "metadata": {},
   "outputs": [
    {
     "name": "stdout",
     "output_type": "stream",
     "text": [
      "<class 'pandas.core.frame.DataFrame'>\n",
      "RangeIndex: 61 entries, 0 to 60\n",
      "Data columns (total 5 columns):\n",
      " #   Column        Non-Null Count  Dtype \n",
      "---  ------        --------------  ----- \n",
      " 0   price         61 non-null     object\n",
      " 1   details       61 non-null     object\n",
      " 2   category      61 non-null     object\n",
      " 3   productName   61 non-null     object\n",
      " 4   productImage  61 non-null     object\n",
      "dtypes: object(5)\n",
      "memory usage: 2.5+ KB\n"
     ]
    }
   ],
   "source": [
    "df_copy1.info()"
   ]
  },
  {
   "cell_type": "code",
   "execution_count": 32,
   "metadata": {},
   "outputs": [
    {
     "name": "stdout",
     "output_type": "stream",
     "text": [
      "Product Name: MULTIPIECE TRAINERS\n",
      "Price: 2,990.00\n",
      "details: https://static.zara.net/photos///2023/I/1/2/p/2236/220/202/2/w/448/2236220202_2_1_1.jpg?ts=1692608383106\n",
      "Product Image: Trainers. Combination of materials, pieces and colours on the upper. Six-eyelet facing. Irregular and chunky sole.\n",
      "\n",
      "Product Name: CHUNKY TRAINERS\n",
      "Price: 3,990.00\n",
      "details: https://static.zara.net/photos///2023/I/1/2/p/2245/220/001/2/w/448/2245220001_6_1_1.jpg?ts=1692019633659\n",
      "Product Image: Sneakers. Plain upper. Seven-eyelet facing. Chunky sole with irregular design at the back.\n",
      "\n",
      "Product Name: CHUNKY TRAINERS\n",
      "Price: 2500.00\n",
      "details: https://static.zara.net/photos///2023/V/1/2/p/2206/120/802/2/w/448/2206120802_2_1_1.jpg?ts=1683033215969\n",
      "Product Image: Monochrome trainers. Seven-eyelet facing. The laces are semi-hidden under two pieces, one on each side of the instep. Chunky sole with an irregular design.\n",
      "\n"
     ]
    }
   ],
   "source": [
    "\n",
    "# Extract details and product names\n",
    "details = [item['details'] for item in data]\n",
    "product_names = [item['productName'] for item in data]\n",
    "\n",
    "# Create TF-IDF vectorizer\n",
    "vectorizer = TfidfVectorizer(stop_words='english')\n",
    "tfidf_matrix = vectorizer.fit_transform(details)\n",
    "\n",
    "# Compute cosine similarity\n",
    "cosine_similarities = linear_kernel(tfidf_matrix, tfidf_matrix)\n",
    "\n",
    "def recommend_products(user_input):\n",
    "    # Find the index of the product in the data\n",
    "    index = product_names.index(user_input)\n",
    "\n",
    "    # Get the cosine similarity scores for the given product\n",
    "    sim_scores = list(enumerate(cosine_similarities[index]))\n",
    "\n",
    "    # Sort the products based on similarity scores\n",
    "    sim_scores = sorted(sim_scores, key=lambda x: x[1], reverse=True)\n",
    "\n",
    "    # Get the top 3 similar products\n",
    "    top_products = sim_scores[1:4]\n",
    "\n",
    "    # Get the indices of the top products\n",
    "    top_indices = [i[0] for i in top_products]\n",
    "\n",
    "    # Return the recommended products\n",
    "    return [(data[i]['productName'], data[i]['price'], data[i]['productImage'],data[i]['details']) for i in top_indices]\n",
    "\n",
    "# Example usage\n",
    "user_input = \"DENIM SNEAKERS\"\n",
    "recommendations = recommend_products(user_input)\n",
    "\n",
    "# Display recommendations\n",
    "for recommendation in recommendations:\n",
    "    print(f\"Product Name: {recommendation[0]}\\nPrice: {recommendation[1]}\\ndetails: {recommendation[2]}\\nProduct Image: {recommendation[3]}\\n\")\n"
   ]
  }
 ],
 "metadata": {
  "kernelspec": {
   "display_name": "Python 3",
   "language": "python",
   "name": "python3"
  },
  "language_info": {
   "codemirror_mode": {
    "name": "ipython",
    "version": 3
   },
   "file_extension": ".py",
   "mimetype": "text/x-python",
   "name": "python",
   "nbconvert_exporter": "python",
   "pygments_lexer": "ipython3",
   "version": "3.11.7"
  }
 },
 "nbformat": 4,
 "nbformat_minor": 2
}
